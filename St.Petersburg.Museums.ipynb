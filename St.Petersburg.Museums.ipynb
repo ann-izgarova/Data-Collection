{
 "cells": [
  {
   "cell_type": "markdown",
   "metadata": {},
   "source": [
    "## Музеи Санкт-Петербурга: сбор информациипо API c Яндекс карт"
   ]
  },
  {
   "cell_type": "markdown",
   "metadata": {},
   "source": [
    "Получаю ключ доступа в [API Яндекс.Картах](https://yandex.ru/dev/maps/), затем делаю запрос, чтобы утащить понравившуюся информацию о музеях."
   ]
  },
  {
   "cell_type": "code",
   "execution_count": 125,
   "metadata": {},
   "outputs": [],
   "source": [
    "import requests as rq\n",
    "import pandas as pd\n",
    "import json as k\n",
    "r = rq.get('https://search-maps.yandex.ru/v1/?text=музеи санкт-петербург&bbox=59.816330,30.189180~60.018651,30.479026&results=500&lang=ru_RU&&apikey=b6a35fa9-79d2-477c-a8ae-f679ea4b115e')"
   ]
  },
  {
   "cell_type": "markdown",
   "metadata": {},
   "source": [
    "Смотрю, как выглядит информация об 1 объекте:"
   ]
  },
  {
   "cell_type": "code",
   "execution_count": 134,
   "metadata": {
    "scrolled": true
   },
   "outputs": [
    {
     "data": {
      "text/plain": [
       "{'type': 'Feature',\n",
       " 'geometry': {'type': 'Point', 'coordinates': [30.332383, 59.938782]},\n",
       " 'properties': {'name': 'Русский музей, Михайловский дворец',\n",
       "  'description': 'Инженерная ул., 2-4А, Санкт-Петербург, Россия',\n",
       "  'boundedBy': [[30.3282775, 59.93672194], [30.3364885, 59.94084194]],\n",
       "  'CompanyMetaData': {'id': '1094851452',\n",
       "   'name': 'Русский музей, Михайловский дворец',\n",
       "   'address': 'Россия, Санкт-Петербург, Инженерная улица, 2-4А',\n",
       "   'url': 'http://rusmuseum.ru/',\n",
       "   'Phones': [{'type': 'phone', 'formatted': '+7 (812) 314-34-48'},\n",
       "    {'type': 'phone', 'formatted': '+7 (812) 595-42-48'},\n",
       "    {'type': 'phone', 'formatted': '+7 (812) 570-56-91'},\n",
       "    {'type': 'phone', 'formatted': '+7 (812) 314-83-68'}],\n",
       "   'Categories': [{'class': 'museum', 'name': 'Музей'}],\n",
       "   'Hours': {'text': 'пн 10:00–19:30; ср 10:00–17:30; чт 13:00–20:30; пт-вс 10:00–17:30',\n",
       "    'Availabilities': [{'Intervals': [{'from': '10:00:00', 'to': '19:30:00'}],\n",
       "      'Monday': True},\n",
       "     {'Intervals': [{'from': '10:00:00', 'to': '17:30:00'}],\n",
       "      'Wednesday': True},\n",
       "     {'Intervals': [{'from': '13:00:00', 'to': '20:30:00'}], 'Thursday': True},\n",
       "     {'Intervals': [{'from': '10:00:00', 'to': '17:30:00'}],\n",
       "      'Friday': True,\n",
       "      'Saturday': True,\n",
       "      'Sunday': True}]}}}}"
      ]
     },
     "execution_count": 134,
     "metadata": {},
     "output_type": "execute_result"
    }
   ],
   "source": [
    "k.loads(r.text)['features'][0]"
   ]
  },
  {
   "cell_type": "markdown",
   "metadata": {},
   "source": [
    "Цикл, который собирает координаты, название, адрес и id:"
   ]
  },
  {
   "cell_type": "code",
   "execution_count": 135,
   "metadata": {},
   "outputs": [],
   "source": [
    "coord = []\n",
    "name = []\n",
    "adress = []\n",
    "id = []\n",
    "\n",
    "for i in range(0,len(k.loads(r.text)['features'])):\n",
    "    coord.append(k.loads(r.text)['features'][i][\"geometry\"]['coordinates'])\n",
    "    name.append(k.loads(r.text)['features'][i]['properties']['name'])\n",
    "    adress.append(k.loads(r.text)['features'][i]['properties']['description'])\n",
    "    id.append(k.loads(r.text)['features'][i]['properties']['CompanyMetaData']['id'])\n",
    "    i = i+1"
   ]
  },
  {
   "cell_type": "markdown",
   "metadata": {},
   "source": [
    "Отдельно собираю ссылки на сайты, телефоны, категории и режим работы, потому что есть пропущенные значения:"
   ]
  },
  {
   "cell_type": "code",
   "execution_count": 137,
   "metadata": {},
   "outputs": [],
   "source": [
    "url = []\n",
    "for i in range(0,len(k.loads(r.text)['features'])):\n",
    "    if 'url' in k.loads(r.text)['features'][i]['properties']['CompanyMetaData']:\n",
    "        url.append(k.loads(r.text)['features'][i]['properties']['CompanyMetaData']['url'])\n",
    "    else:\n",
    "        url.append('-')\n",
    "    i=i+1"
   ]
  },
  {
   "cell_type": "code",
   "execution_count": 138,
   "metadata": {},
   "outputs": [],
   "source": [
    "phone = []\n",
    "for i in range(0,len(k.loads(r.text)['features'])):\n",
    "    if 'Phones' in k.loads(r.text)['features'][i]['properties']['CompanyMetaData']:\n",
    "        phone.append(k.loads(r.text)['features'][i]['properties']['CompanyMetaData']['Phones'][0]['formatted'])\n",
    "    else:\n",
    "        phone.append('-')\n",
    "    i=i+1"
   ]
  },
  {
   "cell_type": "code",
   "execution_count": 139,
   "metadata": {},
   "outputs": [],
   "source": [
    "category1 = []\n",
    "for i in range(0,len(k.loads(r.text)['features'])):\n",
    "    if 'Categories' in k.loads(r.text)['features'][i]['properties']['CompanyMetaData'] and 'name' in k.loads(r.text)['features'][i]['properties']['CompanyMetaData']['Categories'][0]:\n",
    "        category1.append(k.loads(r.text)['features'][i]['properties']['CompanyMetaData']['Categories'][0]['name'])\n",
    "    else:\n",
    "        category1.append('-')\n",
    "    i=i+1"
   ]
  },
  {
   "cell_type": "code",
   "execution_count": 140,
   "metadata": {},
   "outputs": [],
   "source": [
    "category2 = []\n",
    "for i in range(0,len(k.loads(r.text)['features'])):\n",
    "    if 'Categories' in k.loads(r.text)['features'][i]['properties']['CompanyMetaData'] and len(k.loads(r.text)['features'][i]['properties']['CompanyMetaData']['Categories'])==2:\n",
    "        category2.append(k.loads(r.text)['features'][i]['properties']['CompanyMetaData']['Categories'][1]['name'])\n",
    "    else:\n",
    "        category2.append('-')\n",
    "    i=i+1"
   ]
  },
  {
   "cell_type": "code",
   "execution_count": 141,
   "metadata": {},
   "outputs": [],
   "source": [
    "hours=[]\n",
    "for i in range(0,len(k.loads(r.text)['features'])):\n",
    "    if 'Hours' in k.loads(r.text)['features'][i]['properties']['CompanyMetaData']:\n",
    "        hours.append(k.loads(r.text)['features'][i]['properties']['CompanyMetaData']['Hours']['text'])\n",
    "    else:\n",
    "        hours.append('-')\n",
    "    i=i+1"
   ]
  },
  {
   "cell_type": "code",
   "execution_count": 147,
   "metadata": {},
   "outputs": [],
   "source": [
    "data = pd.DataFrame()\n",
    "data['coord']=coord\n",
    "data['name']=name\n",
    "data['adress']=adress\n",
    "data['id']=id\n",
    "data['url']=url\n",
    "data['phone']=phone\n",
    "data['category1']=category1\n",
    "data['category2']=category2\n",
    "data['hours']=hours"
   ]
  },
  {
   "cell_type": "markdown",
   "metadata": {},
   "source": [
    "Данные собраны и записаны в Excel:"
   ]
  },
  {
   "cell_type": "code",
   "execution_count": 148,
   "metadata": {},
   "outputs": [
    {
     "data": {
      "text/html": [
       "<div>\n",
       "<style scoped>\n",
       "    .dataframe tbody tr th:only-of-type {\n",
       "        vertical-align: middle;\n",
       "    }\n",
       "\n",
       "    .dataframe tbody tr th {\n",
       "        vertical-align: top;\n",
       "    }\n",
       "\n",
       "    .dataframe thead th {\n",
       "        text-align: right;\n",
       "    }\n",
       "</style>\n",
       "<table border=\"1\" class=\"dataframe\">\n",
       "  <thead>\n",
       "    <tr style=\"text-align: right;\">\n",
       "      <th></th>\n",
       "      <th>coord</th>\n",
       "      <th>name</th>\n",
       "      <th>adress</th>\n",
       "      <th>id</th>\n",
       "      <th>url</th>\n",
       "      <th>phone</th>\n",
       "      <th>category1</th>\n",
       "      <th>category2</th>\n",
       "      <th>hours</th>\n",
       "    </tr>\n",
       "  </thead>\n",
       "  <tbody>\n",
       "    <tr>\n",
       "      <th>0</th>\n",
       "      <td>[30.332383, 59.938782]</td>\n",
       "      <td>Русский музей, Михайловский дворец</td>\n",
       "      <td>Инженерная ул., 2-4А, Санкт-Петербург, Россия</td>\n",
       "      <td>1094851452</td>\n",
       "      <td>http://rusmuseum.ru/</td>\n",
       "      <td>+7 (812) 314-34-48</td>\n",
       "      <td>Музей</td>\n",
       "      <td>-</td>\n",
       "      <td>пн 10:00–19:30; ср 10:00–17:30; чт 13:00–20:30...</td>\n",
       "    </tr>\n",
       "    <tr>\n",
       "      <th>1</th>\n",
       "      <td>[30.330375, 59.887984]</td>\n",
       "      <td>Гранд Макет Россия</td>\n",
       "      <td>Россия, Санкт-Петербург, Цветочная улица, 16Л</td>\n",
       "      <td>1118815278</td>\n",
       "      <td>https://grandmaket.ru/</td>\n",
       "      <td>+7 (812) 495-54-65</td>\n",
       "      <td>Музей</td>\n",
       "      <td>-</td>\n",
       "      <td>ежедневно, 10:00–19:15</td>\n",
       "    </tr>\n",
       "    <tr>\n",
       "      <th>2</th>\n",
       "      <td>[30.343181, 59.934674]</td>\n",
       "      <td>Музей Фаберже</td>\n",
       "      <td>наб. реки Фонтанки, 21, Санкт-Петербург, Россия</td>\n",
       "      <td>1181267939</td>\n",
       "      <td>http://fabergemuseum.ru/</td>\n",
       "      <td>+7 (812) 333-26-55</td>\n",
       "      <td>Музей</td>\n",
       "      <td>-</td>\n",
       "      <td>ежедневно, 09:30–20:15</td>\n",
       "    </tr>\n",
       "    <tr>\n",
       "      <th>3</th>\n",
       "      <td>[30.314566, 59.939864]</td>\n",
       "      <td>Государственный Эрмитаж</td>\n",
       "      <td>Дворцовая наб., 34, Санкт-Петербург, Россия</td>\n",
       "      <td>1057721048</td>\n",
       "      <td>http://www.hermitagemuseum.org/</td>\n",
       "      <td>+7 (812) 571-34-65</td>\n",
       "      <td>Музей</td>\n",
       "      <td>Достопримечательность</td>\n",
       "      <td>вт-пт 11:00–18:00; сб 11:00–20:00; вс 11:00–18:00</td>\n",
       "    </tr>\n",
       "    <tr>\n",
       "      <th>4</th>\n",
       "      <td>[30.29347, 59.929722]</td>\n",
       "      <td>Центральный военно-морской музей</td>\n",
       "      <td>площадь Труда, 5, Санкт-Петербург, Россия</td>\n",
       "      <td>158858996234</td>\n",
       "      <td>https://navalmuseum.ru/</td>\n",
       "      <td>+7 (812) 303-85-13</td>\n",
       "      <td>Музей</td>\n",
       "      <td>-</td>\n",
       "      <td>пн,ср,чт,пт,сб,вс 10:00–18:00</td>\n",
       "    </tr>\n",
       "    <tr>\n",
       "      <th>...</th>\n",
       "      <td>...</td>\n",
       "      <td>...</td>\n",
       "      <td>...</td>\n",
       "      <td>...</td>\n",
       "      <td>...</td>\n",
       "      <td>...</td>\n",
       "      <td>...</td>\n",
       "      <td>...</td>\n",
       "      <td>...</td>\n",
       "    </tr>\n",
       "    <tr>\n",
       "      <th>495</th>\n",
       "      <td>[30.388694, 59.712816]</td>\n",
       "      <td>Павильон Концертный зал</td>\n",
       "      <td>Россия, Санкт-Петербург, Пушкин, Екатеринински...</td>\n",
       "      <td>230115065283</td>\n",
       "      <td>-</td>\n",
       "      <td>-</td>\n",
       "      <td>Музей</td>\n",
       "      <td>-</td>\n",
       "      <td>ежедневно, 10:00–17:00</td>\n",
       "    </tr>\n",
       "    <tr>\n",
       "      <th>496</th>\n",
       "      <td>[29.899092, 60.156327]</td>\n",
       "      <td>Башня Шахерезады</td>\n",
       "      <td>Россия, Санкт-Петербург, Курортный район, посё...</td>\n",
       "      <td>175298957031</td>\n",
       "      <td>-</td>\n",
       "      <td>-</td>\n",
       "      <td>Музей</td>\n",
       "      <td>-</td>\n",
       "      <td>-</td>\n",
       "    </tr>\n",
       "    <tr>\n",
       "      <th>497</th>\n",
       "      <td>[30.275319, 59.881419]</td>\n",
       "      <td>Музей Столярных Инструментов</td>\n",
       "      <td>ул. Возрождения, 20А, Санкт-Петербург, Россия</td>\n",
       "      <td>1476096141</td>\n",
       "      <td>http://museum.rubankov.ru/</td>\n",
       "      <td>8 (800) 555-55-94</td>\n",
       "      <td>Музей</td>\n",
       "      <td>Выставочный центр</td>\n",
       "      <td>пн-сб 09:00–18:00</td>\n",
       "    </tr>\n",
       "    <tr>\n",
       "      <th>498</th>\n",
       "      <td>[30.593322, 60.010744]</td>\n",
       "      <td>Музейно-мемориальный комплекс Дорога жизни</td>\n",
       "      <td>Приютинская ул., 13, Всеволожск, Россия</td>\n",
       "      <td>54714480788</td>\n",
       "      <td>http://doroga-zhizni.ru/</td>\n",
       "      <td>+7 (812) 456-11-24</td>\n",
       "      <td>Музей</td>\n",
       "      <td>-</td>\n",
       "      <td>пн-пт 09:00–17:30, перерыв 13:00–14:00</td>\n",
       "    </tr>\n",
       "    <tr>\n",
       "      <th>499</th>\n",
       "      <td>[29.907544, 59.877448]</td>\n",
       "      <td>Художественный музей</td>\n",
       "      <td>Царицынская ул., 1, Петергоф, Россия</td>\n",
       "      <td>213141448772</td>\n",
       "      <td>-</td>\n",
       "      <td>-</td>\n",
       "      <td>Музей</td>\n",
       "      <td>-</td>\n",
       "      <td>-</td>\n",
       "    </tr>\n",
       "  </tbody>\n",
       "</table>\n",
       "<p>500 rows × 9 columns</p>\n",
       "</div>"
      ],
      "text/plain": [
       "                      coord                                        name  \\\n",
       "0    [30.332383, 59.938782]          Русский музей, Михайловский дворец   \n",
       "1    [30.330375, 59.887984]                          Гранд Макет Россия   \n",
       "2    [30.343181, 59.934674]                               Музей Фаберже   \n",
       "3    [30.314566, 59.939864]                     Государственный Эрмитаж   \n",
       "4     [30.29347, 59.929722]            Центральный военно-морской музей   \n",
       "..                      ...                                         ...   \n",
       "495  [30.388694, 59.712816]                     Павильон Концертный зал   \n",
       "496  [29.899092, 60.156327]                            Башня Шахерезады   \n",
       "497  [30.275319, 59.881419]                Музей Столярных Инструментов   \n",
       "498  [30.593322, 60.010744]  Музейно-мемориальный комплекс Дорога жизни   \n",
       "499  [29.907544, 59.877448]                        Художественный музей   \n",
       "\n",
       "                                                adress            id  \\\n",
       "0        Инженерная ул., 2-4А, Санкт-Петербург, Россия    1094851452   \n",
       "1        Россия, Санкт-Петербург, Цветочная улица, 16Л    1118815278   \n",
       "2      наб. реки Фонтанки, 21, Санкт-Петербург, Россия    1181267939   \n",
       "3          Дворцовая наб., 34, Санкт-Петербург, Россия    1057721048   \n",
       "4            площадь Труда, 5, Санкт-Петербург, Россия  158858996234   \n",
       "..                                                 ...           ...   \n",
       "495  Россия, Санкт-Петербург, Пушкин, Екатеринински...  230115065283   \n",
       "496  Россия, Санкт-Петербург, Курортный район, посё...  175298957031   \n",
       "497      ул. Возрождения, 20А, Санкт-Петербург, Россия    1476096141   \n",
       "498            Приютинская ул., 13, Всеволожск, Россия   54714480788   \n",
       "499               Царицынская ул., 1, Петергоф, Россия  213141448772   \n",
       "\n",
       "                                 url               phone category1  \\\n",
       "0               http://rusmuseum.ru/  +7 (812) 314-34-48     Музей   \n",
       "1             https://grandmaket.ru/  +7 (812) 495-54-65     Музей   \n",
       "2           http://fabergemuseum.ru/  +7 (812) 333-26-55     Музей   \n",
       "3    http://www.hermitagemuseum.org/  +7 (812) 571-34-65     Музей   \n",
       "4            https://navalmuseum.ru/  +7 (812) 303-85-13     Музей   \n",
       "..                               ...                 ...       ...   \n",
       "495                                -                   -     Музей   \n",
       "496                                -                   -     Музей   \n",
       "497       http://museum.rubankov.ru/   8 (800) 555-55-94     Музей   \n",
       "498         http://doroga-zhizni.ru/  +7 (812) 456-11-24     Музей   \n",
       "499                                -                   -     Музей   \n",
       "\n",
       "                 category2                                              hours  \n",
       "0                        -  пн 10:00–19:30; ср 10:00–17:30; чт 13:00–20:30...  \n",
       "1                        -                             ежедневно, 10:00–19:15  \n",
       "2                        -                             ежедневно, 09:30–20:15  \n",
       "3    Достопримечательность  вт-пт 11:00–18:00; сб 11:00–20:00; вс 11:00–18:00  \n",
       "4                        -                      пн,ср,чт,пт,сб,вс 10:00–18:00  \n",
       "..                     ...                                                ...  \n",
       "495                      -                             ежедневно, 10:00–17:00  \n",
       "496                      -                                                  -  \n",
       "497      Выставочный центр                                  пн-сб 09:00–18:00  \n",
       "498                      -             пн-пт 09:00–17:30, перерыв 13:00–14:00  \n",
       "499                      -                                                  -  \n",
       "\n",
       "[500 rows x 9 columns]"
      ]
     },
     "execution_count": 148,
     "metadata": {},
     "output_type": "execute_result"
    }
   ],
   "source": [
    "data\n",
    "data.to_excel('kudago_data.xlsx', sheet_name='Sheet1')"
   ]
  }
 ],
 "metadata": {
  "kernelspec": {
   "display_name": "Python 3",
   "language": "python",
   "name": "python3"
  },
  "language_info": {
   "codemirror_mode": {
    "name": "ipython",
    "version": 3
   },
   "file_extension": ".py",
   "mimetype": "text/x-python",
   "name": "python",
   "nbconvert_exporter": "python",
   "pygments_lexer": "ipython3",
   "version": "3.8.3"
  }
 },
 "nbformat": 4,
 "nbformat_minor": 4
}
